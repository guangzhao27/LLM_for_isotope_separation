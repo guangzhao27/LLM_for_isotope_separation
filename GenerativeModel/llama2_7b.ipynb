{
 "cells": [
  {
   "cell_type": "code",
   "execution_count": 1,
   "metadata": {},
   "outputs": [
    {
     "name": "stdout",
     "output_type": "stream",
     "text": [
      "['0', 'Metal', 'M-cont', 'Element', 'E-cont', 'Acid', 'A-cont', 'Yield', 'Y-cont', 'Separation Method', 'S-cont', 'Resin', 'R-cont', 'Method of Analysis', 'T-cont', 'pH', 'P-cont', 'Chemical Compound', 'H-cont', 'Organic solvent', 'O-cont', 'Element Group', 'G-cont', 'Inorganic Solvent', 'I-cont', 'Flowrate', 'F-cont', 'Acid Concentration', 'C-cont', 'Reagent', 'X-cont']\n",
      "['0', 'Metal', 'M-cont', 'Element', 'E-cont', 'Acid', 'A-cont', 'Yield', 'Y-cont', 'Separation Method', 'S-cont', 'Resin', 'R-cont', 'Method of Analysis', 'T-cont', 'pH', 'P-cont', 'Chemical Compound', 'H-cont', 'Organic solvent', 'O-cont', 'Element Group', 'G-cont', 'Inorganic Solvent', 'I-cont', 'Flowrate', 'F-cont', 'Acid Concentration', 'C-cont', 'Reagent', 'X-cont', 'PAD']\n",
      "{'0': 0, 'Metal': 1, 'M-cont': 2, 'Element': 3, 'E-cont': 4, 'Acid': 5, 'A-cont': 6, 'Yield': 7, 'Y-cont': 8, 'Separation Method': 9, 'S-cont': 10, 'Resin': 11, 'R-cont': 12, 'Method of Analysis': 13, 'T-cont': 14, 'pH': 15, 'P-cont': 16, 'Chemical Compound': 17, 'H-cont': 18, 'Organic solvent': 19, 'O-cont': 20, 'Element Group': 21, 'G-cont': 22, 'Inorganic Solvent': 23, 'I-cont': 24, 'Flowrate': 25, 'F-cont': 26, 'Acid Concentration': 27, 'C-cont': 28, 'Reagent': 29, 'X-cont': 30, 'PAD': 31}\n"
     ]
    }
   ],
   "source": [
    "import pandas as pd\n",
    "import numpy as np\n",
    "from tqdm import tqdm, trange\n",
    "import csv\n",
    "import matplotlib.pyplot as plt\n",
    "%matplotlib inline\n",
    "import seaborn as sns\n",
    "import statistics\n",
    "\n",
    "import torch\n",
    "from torch.utils.data import TensorDataset, DataLoader, RandomSampler, SequentialSampler\n",
    "from transformers import BertTokenizer, BertConfig\n",
    "\n",
    "from sklearn.model_selection import train_test_split\n",
    "\n",
    "import transformers\n",
    "from transformers import BertForTokenClassification, AdamW\n",
    "from transformers import get_linear_schedule_with_warmup\n",
    "\n",
    "# Check GPU availability\n",
    "device = torch.device(\"cuda\" if torch.cuda.is_available() else \"cpu\")\n",
    "n_gpu = torch.cuda.device_count()\n",
    "torch.cuda.get_device_name(0)\n",
    "# **Preprocessing data**\n",
    "# Reading data\n",
    "import json\n",
    "\n",
    "\n",
    "#open the file, and format correctly\n",
    "f =open('all.jsonl', 'r')\n",
    "json_object = json.dumps(f.readlines(), indent=4)\n",
    "f.close()\n",
    "\n",
    "#save better format into file\n",
    "p = open('sample.txt', 'w')\n",
    "for i in json_object:\n",
    "    p.write(i)\n",
    "p.close()\n",
    "\n",
    "#open new file, and save each \n",
    "j = open('sample.txt', 'r')\n",
    "text = json.loads(j.read())\n",
    "j.close()\n",
    "\n",
    "#compile all json dicts into a list\n",
    "info = []\n",
    "for i in text:\n",
    "    info.append(json.loads(str(i)))\n",
    "    \n",
    "def degreekify(char):\n",
    "    #char will be a character\n",
    "    greek = {'α': '[alpha]', 'β':'[beta]', 'γ': '[gamma]', 'δ':'[delta]', 'ε': '[epsilon]', 'ζ':'[zeta]', 'η': '[eta]',\n",
    "            'θ':'[theta]', 'ι': '[iota]', 'κ':'[kappa]', 'λ':'[lambda]', 'μ': '[mu]', 'ν':'[nu]', 'ξ':'[xi]', 'ο':'[omicron]', 'π':'[pi]', 'ρ':'[rho]',\n",
    "            'σ': '[sigma]', 'τ': '[tau]', 'υ':'[upsilon]', 'φ':'[phi]', 'χ':'[chi]', 'ψ':'[psi]', 'ω':'[omega]' }\n",
    "    if char in greek:\n",
    "        return greek[char]\n",
    "    else:\n",
    "        return char\n",
    "def pre_process(text, annotations):\n",
    "    #text will be the straight sentence, info[i]['text']\n",
    "    #annotations will be the list of labels, must be info[i]['annotations']\n",
    "    \n",
    "    text_dict = []\n",
    "    \n",
    "    for i in range(len(text)):\n",
    "        text_dict.append(degreekify(text[i]))\n",
    "    \n",
    "    \n",
    "    \n",
    "    ann_indices = []\n",
    "    def fun(x):\n",
    "        return x['start_offset']\n",
    "    annotations.sort(key=fun)\n",
    "    \n",
    "    \n",
    "    \n",
    "    if len(annotations)==0:\n",
    "        ann_indices.append([[0, len(text)],0])\n",
    "    else:\n",
    "        ann_indices.append([[0, annotations[0]['start_offset']], 0])\n",
    "        for i in range(len(annotations)-1):\n",
    "            ann_indices.append([[annotations[i]['start_offset'], annotations[i]['end_offset']], data_tags.index(annotations[i]['label'])])\n",
    "            ann_indices.append([[annotations[i]['end_offset'], annotations[i+1]['start_offset']], 0])\n",
    "            \n",
    "        ann_indices.append([[annotations[-1]['start_offset'], annotations[-1]['end_offset']], data_tags.index(annotations[-1]['label'])])\n",
    "        ann_indices.append([[annotations[-1]['end_offset'], len(text)], 0])\n",
    "         \n",
    "    \n",
    "    labels = []\n",
    "    sentences = []\n",
    "    for a in ann_indices:\n",
    "        \n",
    "        if a[0][1]-a[0][0] !=0:\n",
    "            together = ''\n",
    "            for i in range(a[0][0], a[0][1]):\n",
    "                together += text_dict[i]\n",
    "                \n",
    "            toke = together.split()\n",
    "            sentences.extend(toke)\n",
    "            t = len(toke)\n",
    "            if t != 0:\n",
    "                temp = [data_tags[a[1]+1]] * t\n",
    "                if a[1] != 0:\n",
    "                    temp[0] = data_tags[a[1]]\n",
    "                labels.extend(temp)\n",
    " \n",
    "    return labels, sentences\n",
    "def reduce(sent, label, slist, llist):\n",
    "    lens = len(sent)\n",
    "    if lens < 256:\n",
    "        slist.append(sent)\n",
    "        llist.append(label)\n",
    "    else:\n",
    "        t = lens//2\n",
    "        return reduce(sent[:t], label[:t], slist, llist), reduce(sent[t:], label[t:], slist, llist)\n",
    "#create labels\n",
    "data_tags = ['ahhhhhhhhhhhhhhhhhhhh','0','Metal', 'M-cont' , 'Element', 'E-cont', 'Acid', 'A-cont', 'Yield' , 'Y-cont', 'Separation Method' , 'S-cont', 'Resin', 'R-cont', 'Method of Analysis', 'T-cont', 'pH', 'P-cont', 'Chemical Compound', 'H-cont', 'Organic solvent', 'O-cont', 'Element Group', 'G-cont', 'Inorganic Solvent', 'I-cont', 'Flowrate', 'F-cont', 'Acid Concentration', 'C-cont', 'Reagent', 'X-cont']\n",
    "\n",
    "sent_test, label_test = [], []\n",
    "sentences, labels = [], []\n",
    "\n",
    "for i in range(len(info)):\n",
    "    l, s = pre_process(info[i]['text'], info[i]['entities'])\n",
    "  \n",
    "    if i % 5 == 0:\n",
    "        reduce(s,l,sent_test, label_test)\n",
    "\n",
    "    else:\n",
    "        reduce(s,l,sentences, labels)\n",
    "\n",
    "\n",
    "data_tags = data_tags[1:]\n",
    "\n",
    "\n",
    "# Determine the list of tags\n",
    "tag_values = data_tags\n",
    "print(tag_values)\n",
    "\n",
    "tag_values.append(\"PAD\")\n",
    "print(tag_values)\n",
    "\n",
    "tag2idx = {t: i for i, t in enumerate(tag_values)}\n",
    "print(tag2idx)\n",
    "    \n",
    "    \n",
    "idx2tag = {value: key for key, value in tag2idx.items()}\n",
    "bio_labels = [\n",
    "    'O',\n",
    "    'B-Metal',\n",
    "    'I-Metal',\n",
    "    'B-Element',\n",
    "    'I-Element',\n",
    "    'B-Acid',\n",
    "    'I-Acid',\n",
    "    'B-Yield',\n",
    "    'I-Yield',\n",
    "    'B-SeparationMethod',\n",
    "    'I-SeparationMethod',\n",
    "    'B-Resin',\n",
    "    'I-Resin',\n",
    "    'B-MethodOfAnalysis',\n",
    "    'I-MethodOfAnalysis',\n",
    "    'B-pH',\n",
    "    'I-pH',\n",
    "    'B-ChemicalCompound',\n",
    "    'I-ChemicalCompound',\n",
    "    'B-OrganicSolvent',\n",
    "    'I-OrganicSolvent',\n",
    "    'B-ElementGroup',\n",
    "    'I-ElementGroup',\n",
    "    'B-InorganicSolvent',\n",
    "    'I-InorganicSolvent',\n",
    "    'B-Flowrate',\n",
    "    'I-Flowrate',\n",
    "    'B-AcidConcentration',\n",
    "    'I-AcidConcentration',\n",
    "    'B-Reagent',\n",
    "    'I-Reagent',\n",
    "    'O'\n",
    "]\n"
   ]
  },
  {
   "cell_type": "code",
   "execution_count": 2,
   "metadata": {},
   "outputs": [
    {
     "data": {
      "text/plain": [
       "['Metal',\n",
       " 'Element',\n",
       " 'Acid',\n",
       " 'Yield',\n",
       " 'Separation Method',\n",
       " 'Resin',\n",
       " 'Method of Analysis',\n",
       " 'pH',\n",
       " 'Chemical Compound',\n",
       " 'Organic solvent',\n",
       " 'Element Group',\n",
       " 'Inorganic Solvent',\n",
       " 'Flowrate',\n",
       " 'Acid Concentration',\n",
       " 'Reagent']"
      ]
     },
     "execution_count": 2,
     "metadata": {},
     "output_type": "execute_result"
    }
   ],
   "source": [
    "label_list = data_tags[1:-1:2]\n",
    "label_list"
   ]
  },
  {
   "cell_type": "code",
   "execution_count": 7,
   "metadata": {},
   "outputs": [],
   "source": [
    "from transformers import AutoModelForCausalLM, AutoTokenizer, pipeline\n",
    "\n",
    "model_name_or_path = \"TheBloke/Llama-2-7B-GPTQ\"\n",
    "# To use a different branch, change revision\n",
    "# For example: revision=\"main\"\n",
    "model = AutoModelForCausalLM.from_pretrained(model_name_or_path,\n",
    "                                             device_map=\"auto\",\n",
    "                                             trust_remote_code=True,\n",
    "                                             revision=\"gptq-4bit-32g-actorder_True\")\n",
    "#model = exllama_set_max_input_length(model, 4096)\n",
    "tokenizer = AutoTokenizer.from_pretrained(model_name_or_path, use_fast=True)\n",
    "\n",
    "\n"
   ]
  },
  {
   "cell_type": "code",
   "execution_count": 4,
   "metadata": {},
   "outputs": [
    {
     "data": {
      "text/plain": [
       "[{'id': 10627, 'label': 'Acid', 'start_offset': 41, 'end_offset': 63},\n",
       " {'id': 10626, 'label': 'Acid', 'start_offset': 65, 'end_offset': 69},\n",
       " {'id': 15947,\n",
       "  'label': 'Separation Method',\n",
       "  'start_offset': 76,\n",
       "  'end_offset': 94},\n",
       " {'id': 15948,\n",
       "  'label': 'Separation Method',\n",
       "  'start_offset': 96,\n",
       "  'end_offset': 99},\n",
       " {'id': 15949,\n",
       "  'label': 'Separation Method',\n",
       "  'start_offset': 104,\n",
       "  'end_offset': 127},\n",
       " {'id': 15950,\n",
       "  'label': 'Separation Method',\n",
       "  'start_offset': 129,\n",
       "  'end_offset': 133},\n",
       " {'id': 10632, 'label': 'Metal', 'start_offset': 139, 'end_offset': 144},\n",
       " {'id': 10633, 'label': 'Acid', 'start_offset': 178, 'end_offset': 199},\n",
       " {'id': 10625, 'label': 'Acid', 'start_offset': 231, 'end_offset': 241},\n",
       " {'id': 10624, 'label': 'Acid', 'start_offset': 242, 'end_offset': 248},\n",
       " {'id': 10634, 'label': 'Acid', 'start_offset': 302, 'end_offset': 307},\n",
       " {'id': 10635, 'label': 'Acid', 'start_offset': 312, 'end_offset': 334},\n",
       " {'id': 15951,\n",
       "  'label': 'Separation Method',\n",
       "  'start_offset': 350,\n",
       "  'end_offset': 354},\n",
       " {'id': 15952,\n",
       "  'label': 'Separation Method',\n",
       "  'start_offset': 358,\n",
       "  'end_offset': 363},\n",
       " {'id': 10636,\n",
       "  'label': 'Organic solvent',\n",
       "  'start_offset': 366,\n",
       "  'end_offset': 374}]"
      ]
     },
     "execution_count": 4,
     "metadata": {},
     "output_type": "execute_result"
    }
   ],
   "source": [
    "info[0]['entities']"
   ]
  },
  {
   "cell_type": "code",
   "execution_count": 20,
   "metadata": {},
   "outputs": [],
   "source": [
    "def remove_id(entities):\n",
    "    s = \"\"\n",
    "    for e in entities:\n",
    "        try:\n",
    "            e.pop('id')\n",
    "        except:\n",
    "            pass\n",
    "        s += f\"{e}\\n\"\n",
    "\n",
    "    return s\n",
    "\n",
    "prompt = f\"\"\"Context: Please perform Named Entity Recognition (NER) on the following text with label entities [{\"] [\".join(label_list)}]: \n",
    "    Q: {info[0]['text']}\n",
    "    A: {remove_id(info[0]['entities'])}\n",
    "    Q {info[1]['text']}\n",
    "    A: {remove_id(info[1]['entities'])}\n",
    "    Q: {info[4]['text']}\n",
    "    A: \n",
    "    \"\"\""
   ]
  },
  {
   "cell_type": "code",
   "execution_count": 21,
   "metadata": {},
   "outputs": [
    {
     "data": {
      "text/plain": [
       "\"Context: Please perform Named Entity Recognition (NER) on the following text with label entities [Metal] [Element] [Acid] [Yield] [Separation Method] [Resin] [Method of Analysis] [pH] [Chemical Compound] [Organic solvent] [Element Group] [Inorganic Solvent] [Flowrate] [Acid Concentration] [Reagent]: \\n    Q: Extraction systems based on extraction of tetrafluoroboric acid (HBF4) with tributyl phosphate (TBP) and triamylphosphine oxide (TAPO) for boron isotope separation were studied. Tetrafluoroboric acid was studied in comparison with boric acid (H3BO3). The extraction isotherms at 20°C for four systems (boric and tetrafluoroboric acids extracted with TBP and TAPO in o-xylene) were obtained, and single-stage isotope separation factors for these four systems were determined.\\n    A: {'label': 'Acid', 'start_offset': 41, 'end_offset': 63}\\n{'label': 'Acid', 'start_offset': 65, 'end_offset': 69}\\n{'label': 'Separation Method', 'start_offset': 76, 'end_offset': 94}\\n{'label': 'Separation Method', 'start_offset': 96, 'end_offset': 99}\\n{'label': 'Separation Method', 'start_offset': 104, 'end_offset': 127}\\n{'label': 'Separation Method', 'start_offset': 129, 'end_offset': 133}\\n{'label': 'Metal', 'start_offset': 139, 'end_offset': 144}\\n{'label': 'Acid', 'start_offset': 178, 'end_offset': 199}\\n{'label': 'Acid', 'start_offset': 231, 'end_offset': 241}\\n{'label': 'Acid', 'start_offset': 242, 'end_offset': 248}\\n{'label': 'Acid', 'start_offset': 302, 'end_offset': 307}\\n{'label': 'Acid', 'start_offset': 312, 'end_offset': 334}\\n{'label': 'Separation Method', 'start_offset': 350, 'end_offset': 354}\\n{'label': 'Separation Method', 'start_offset': 358, 'end_offset': 363}\\n{'label': 'Organic solvent', 'start_offset': 366, 'end_offset': 374}\\n\\n    Q For example, materials based on 10B are demanded in nuclear power engineering, namely, in reactor control and protection systems and in production of steel for transportation racks and containers for spent nuclear fuel (SNF). Boron-10 is used in neutron capture therapy for cancer treatment.\\n    A: {'label': 'Element', 'start_offset': 32, 'end_offset': 35}\\n{'label': 'Element', 'start_offset': 226, 'end_offset': 234}\\n\\n    Q: The mixture of nuclides, remaining after the separation of thorium isotopes contains 228Ra (in which 228Ac accumulates) and also 224Ra (in equilibrium with other decay products, including gaseous 220Rn) and the stable 208Pb. A single-stage isolation of 228Ac from a mixture of this kind is a complicated task, and deep purification to remove 224Ra is necessary for obtaining the radiochemically pure 228Ac. For this reason, the mixture was kept for one month till the complete decay of 224Ra. In the final stage, 228Ac was separated from 228Ra, 208Pb, and newly formed 228Th. For this purpose, a solution of 228Ra in HNO3 was evaporated to dryness in a glass flask on an electric hot plate, dissolved in 4 M HNO3; and the solution was placed in a column with RE extraction-chromatographic sorbent (Triskem Int., France, based on carbamoylmethylphosphine oxide and tributyl phosphate) with volume of 2 mL. 228Ra and 228Ac were separated by selective elution from the column: first, 228Ra was eluted with a 4 M HNO3 solution, and then 228Ac, in 0.05 M HNO3, with fractions collected each having a volume of 1 mL The purity of 228Ac was determined by registering its gamma-spectrum during three days. To perform experiments on sorption of actinium on CNMs, the 228Ac eluate in 0.05 M HNO3 was evaporated to dryness and dissolved in several mL of a phosphate buffered saline (PBS) with pH 7.\\n    A: \\n    \""
      ]
     },
     "execution_count": 21,
     "metadata": {},
     "output_type": "execute_result"
    }
   ],
   "source": [
    "prompt"
   ]
  },
  {
   "cell_type": "markdown",
   "metadata": {},
   "source": [
    "### Direct use start and off position as prompt"
   ]
  },
  {
   "cell_type": "code",
   "execution_count": null,
   "metadata": {},
   "outputs": [],
   "source": [
    "print(\"\\n\\n*** Generate:\")\n",
    "\n",
    "input_ids = tokenizer(prompt, return_tensors='pt').input_ids.cuda()\n",
    "output = model.generate(inputs=input_ids, temperature=0.7, do_sample=True, top_p=0.95, top_k=40, max_new_tokens=512)\n",
    "print(tokenizer.decode(output[0]))"
   ]
  },
  {
   "cell_type": "markdown",
   "metadata": {},
   "source": [
    "*** Generate:\n",
    "Context: Please perform Named Entity Recognition (NER) on the following text with label entities [Metal] [Element] [Acid] [Yield] [Separation Method] [Resin] [Method of Analysis] [pH] [Chemical Compound] [Organic solvent] [Element Group] [Inorganic Solvent] [Flowrate] [Acid Concentration] [Reagent]: \n",
    "    Q: Extraction systems based on extraction of tetrafluoroboric acid (HBF4) with tributyl phosphate (TBP) and triamylphosphine oxide (TAPO) for boron isotope separation were studied. Tetrafluoroboric acid was studied in comparison with boric acid (H3BO3). The extraction isotherms at 20°C for four systems (boric and tetrafluoroboric acids extracted with TBP and TAPO in o-xylene) were obtained, and single-stage isotope separation factors for these four systems were determined.\n",
    "    A: {'label': 'Acid', 'start_offset': 41, 'end_offset': 63}\n",
    "{'label': 'Acid', 'start_offset': 65, 'end_offset': 69}\n",
    "{'label': 'Separation Method', 'start_offset': 76, 'end_offset': 94}\n",
    "{'label': 'Separation Method', 'start_offset': 96, 'end_offset': 99}\n",
    "{'label': 'Separation Method', 'start_offset': 104, 'end_offset': 127}\n",
    "{'label': 'Separation Method', 'start_offset': 129, 'end_offset': 133}\n",
    "{'label': 'Metal', 'start_offset': 139, 'end_offset': 144}\n",
    "{'label': 'Acid', 'start_offset': 178, 'end_offset': 199}\n",
    "{'label': 'Acid', 'start_offset': 231, 'end_offset': 241}\n",
    "{'label': 'Acid', 'start_offset': 242, 'end_offset': 248}\n",
    "{'label': 'Acid', 'start_offset': 302, 'end_offset': 307}\n",
    "{'label': 'Acid', 'start_offset': 312, 'end_offset': 334}\n",
    "{'label': 'Separation Method', 'start_offset': 350, 'end_offset': 354}\n",
    "{'label': 'Separation Method', 'start_offset': 358, 'end_offset': 363}\n",
    "{'label': 'Organic solvent', 'start_offset': 366, 'end_offset': 374}\n",
    "\n",
    "    Q For example, materials based on 10B are demanded in nuclear power engineering, namely, in reactor control and protection systems and in production of steel for transportation racks and containers for spent nuclear fuel (SNF). Boron-10 is used in neutron capture therapy for cancer treatment.\n",
    "    A: {'label': 'Element', 'start_offset': 32, 'end_offset': 35}\n",
    "{'label': 'Element', 'start_offset': 226, 'end_offset': 234}\n",
    "\n",
    "    Q: The mixture of nuclides, remaining after the separation of thorium isotopes contains 228Ra (in which 228Ac accumulates) and also 224Ra (in equilibrium with other decay products, including gaseous 220Rn) and the stable 208Pb. A single-stage isolation of 228Ac from a mixture of this kind is a complicated task, and deep purification to remove 224Ra is necessary for obtaining the radiochemically pure 228Ac. For this reason, the mixture was kept for one month till the complete decay of 224Ra. In the final stage, 228Ac was separated from 228Ra, 208Pb, and newly formed 228Th. For this purpose, a solution of 228Ra in HNO3 was evaporated to dryness in a glass flask on an electric hot plate, dissolved in 4 M HNO3; and the solution was placed in a column with RE extraction-chromatographic sorbent (Triskem Int., France, based on carbamoylmethylphosphine oxide and tributyl phosphate) with volume of 2 mL. 228Ra and 228Ac were separated by selective elution from the column: first, 228Ra was eluted with a 4 M HNO3 solution, and then 228Ac, in 0.05 M HNO3, with fractions collected each having a volume of 1 mL The purity of 228Ac was determined by registering its gamma-spectrum during three days. To perform experiments on sorption of actinium on CNMs, the 228Ac eluate in 0.05 M HNO3 was evaporated to dryness and dissolved in several mL of a phosphate buffered saline (PBS) with pH 7.\n",
    "    A: \n",
    "    \t{'label': 'Flowrate', 'start_offset': 37, 'end_offset': 39}\n",
    "    \t{'label': 'Acid Concentration', 'start_offset': 48, 'end_offset': 50}\n",
    "    \t{'label': 'Reagent', 'start_offset': 51, 'end_offset': 53}\n",
    "    \t{'label': 'pH', 'start_offset': 57, 'end_offset': 60}\n",
    "    \t{'label': 'Chemical Compound', 'start_offset': 61, 'end_offset': 63}\n",
    "    \t{'label': 'Organic solvent', 'start_offset': 64, 'end_offset': 67}\n",
    "    \t{'label': 'Element Group', 'start_offset': 68, 'end_offset': 70}\n",
    "    \t{'label': 'Inorganic solvent', 'start_offset': 71, 'end_offset': 73}\n",
    "    \t{'label': 'Resin', 'start_offset': 74, 'end_offset': 76}\n",
    "    \t{'label': 'Method of Analysis', 'start_offset': 77, 'end_offset': 79}\n",
    "    \t{'label': 'Element', 'start_offset': 80, 'end_offset': 81}\n",
    "    \t{'label': 'Acid', 'start_offset': 82, 'end_offset': 83}\n",
    "    \t{'label': 'Yield', 'start_offset': 84, 'end_offset': 86}\n",
    "    \t{'label': 'Element', 'start_offset': 87, 'end_offset': 89}\n",
    "    \t{'label': 'Acid', 'start_offset': 90, 'end_offset': 92}\n",
    "    \t{'label': 'Acid', 'start_offset': 93, 'end_offset': 96}\n",
    "    \t{'label': 'Resin', 'start_offset': 97, 'end_offset': 100}\n",
    "    \t{'label': 'Method of Analysis', 'start_offset': 101, 'end_offset':"
   ]
  },
  {
   "cell_type": "markdown",
   "metadata": {},
   "source": [
    "### use label and text pairs"
   ]
  },
  {
   "cell_type": "code",
   "execution_count": 23,
   "metadata": {},
   "outputs": [
    {
     "data": {
      "text/plain": [
       "'For example, materials based on 10B are demanded in nuclear power engineering, namely, in reactor control and protection systems and in production of steel for transportation racks and containers for spent nuclear fuel (SNF). Boron-10 is used in neutron capture therapy for cancer treatment.'"
      ]
     },
     "execution_count": 23,
     "metadata": {},
     "output_type": "execute_result"
    }
   ],
   "source": [
    "info[1]['text']"
   ]
  },
  {
   "cell_type": "code",
   "execution_count": 24,
   "metadata": {},
   "outputs": [
    {
     "data": {
      "text/plain": [
       "[{'label': 'Element', 'start_offset': 32, 'end_offset': 35},\n",
       " {'label': 'Element', 'start_offset': 226, 'end_offset': 234}]"
      ]
     },
     "execution_count": 24,
     "metadata": {},
     "output_type": "execute_result"
    }
   ],
   "source": [
    "info[1]['entities']"
   ]
  },
  {
   "cell_type": "code",
   "execution_count": 27,
   "metadata": {},
   "outputs": [
    {
     "data": {
      "text/plain": [
       "'Boron-10'"
      ]
     },
     "execution_count": 27,
     "metadata": {},
     "output_type": "execute_result"
    }
   ],
   "source": [
    "info[1]['text'][226:234]"
   ]
  },
  {
   "cell_type": "code",
   "execution_count": 57,
   "metadata": {},
   "outputs": [
    {
     "name": "stdout",
     "output_type": "stream",
     "text": [
      "Context: Please perform Named Entity Recognition (NER) on the following text with label entities [Metal] [Element] [Acid] [Yield] [Separation Method] [Resin] [Method of Analysis] [pH] [Chemical Compound] [Organic solvent] [Element Group] [Inorganic Solvent] [Flowrate] [Acid Concentration] [Reagent]: \n",
      "Q: Extraction systems based on extraction of tetrafluoroboric acid (HBF4) with tributyl phosphate (TBP) and triamylphosphine oxide (TAPO) for boron isotope separation were studied. Tetrafluoroboric acid was studied in comparison with boric acid (H3BO3). The extraction isotherms at 20°C for four systems (boric and tetrafluoroboric acids extracted with TBP and TAPO in o-xylene) were obtained, and single-stage isotope separation factors for these four systems were determined.\n",
      "A: {'word': ' tetrafluoroboric acid', 'label': 'Acid'}\n",
      "{'word': 'HBF4', 'label': 'Acid'}\n",
      "{'word': 'tributyl phosphate', 'label': 'Separation Method'}\n",
      "{'word': 'TBP', 'label': 'Separation Method'}\n",
      "{'word': ' triamylphosphine oxide', 'label': 'Separation Method'}\n",
      "{'word': 'TAPO', 'label': 'Separation Method'}\n",
      "{'word': 'boron', 'label': 'Metal'}\n",
      "{'word': 'Tetrafluoroboric acid', 'label': 'Acid'}\n",
      "{'word': 'boric acid', 'label': 'Acid'}\n",
      "{'word': '(H3BO3', 'label': 'Acid'}\n",
      "{'word': 'boric', 'label': 'Acid'}\n",
      "{'word': 'tetrafluoroboric acids', 'label': 'Acid'}\n",
      "{'word': 'TBP ', 'label': 'Separation Method'}\n",
      "{'word': 'TAPO ', 'label': 'Separation Method'}\n",
      "{'word': 'o-xylene', 'label': 'Organic solvent'}\n",
      "\n",
      "Q: Lead-203  was  produced  by  proton  bombardment  of  natural  thallium  target.  For  producing  203Pb, natTl was electroplated on copper backing as target and was bombarded by energetic proton beam. After bom-bardment,  the  target  was  dissolved  in  1  M  HNO3.  Ion  exchange,  solvent  extraction,  and  nanomagnetic    ion-imprinted  polymer  methods  were  used  for  separating  203Pb  from  thallium.  The  separation  efficiency  of  these  methods  was  studied.  γ-Ray  spectroscopy  wa\n",
      "A: {'word': 'Lead-203', 'label': 'Metal'}\n",
      "{'word': 'thallium', 'label': 'Element'}\n",
      "{'word': '203Pb', 'label': 'Element'}\n",
      "{'word': 'natTl', 'label': 'Element'}\n",
      "{'word': 'copper ', 'label': 'Element'}\n",
      "{'word': ' 1  M  HNO3', 'label': 'Acid Concentration'}\n",
      "{'word': 'Ion  exchange', 'label': 'Separation Method'}\n",
      "{'word': 'solvent  extraction', 'label': 'Separation Method'}\n",
      "{'word': ' nanomagnetic    ion-imprinted  polymer  methods  ', 'label': 'Separation Method'}\n",
      "{'word': '203Pb', 'label': 'Element'}\n",
      "{'word': 'thallium', 'label': 'Element'}\n",
      "{'word': 'γ-Ray  spectroscopy', 'label': 'Method of Analysis'}\n",
      "\n",
      "Q: The mixture of nuclides, remaining after the separation of thorium isotopes contains 228Ra (in which 228Ac accumulates) and also 224Ra (in equilibrium with other decay products, including gaseous 220Rn) and the stable 208Pb. A single-stage isolation of 228Ac from a mixture of this kind is a complicated task, and deep purification to remove 224Ra is necessary for obtaining the radiochemically pure 228Ac. For this reason, the mixture was kept for one month till the complete decay of 224Ra. In the \n",
      "A: \n",
      "    \n"
     ]
    }
   ],
   "source": [
    "def prompt_generate(info_item):\n",
    "    s = \"\"\n",
    "    for e in info_item['entities']:\n",
    "        temp_dict = dict()\n",
    "        temp_dict['word'] = info_item['text'][e['start_offset']:e['end_offset']]\n",
    "        # temp_dict['start_offset'] = e['start_offset']\n",
    "        # temp_dict['end_offset'] = e['end_offset']\n",
    "        temp_dict['label'] = e['label']\n",
    "\n",
    "        \n",
    "        s += f\"{temp_dict}\\n\"\n",
    "\n",
    "    return s\n",
    "\n",
    "temp_info = info[2]\n",
    "\n",
    "temp_info['text'] = temp_info['text'][:500]\n",
    "temp_info['entities'] = [e for e in temp_info['entities'] if e['end_offset']<500]\n",
    "prompt = f\"\"\"Context: Please perform Named Entity Recognition (NER) on the following text with label entities [{\"] [\".join(label_list)}]: \n",
    "Q: {info[0]['text']}\n",
    "A: {prompt_generate(info[0])}\n",
    "Q: {temp_info['text']}\n",
    "A: {prompt_generate(temp_info)}\n",
    "Q: {info[4]['text'][:500]}\n",
    "A: \n",
    "    \"\"\"\n",
    "print(prompt)"
   ]
  },
  {
   "cell_type": "code",
   "execution_count": 53,
   "metadata": {},
   "outputs": [
    {
     "data": {
      "text/plain": [
       "\"{'word': 'Lead-203', 'start_offset': 0, 'end_offset': 8, 'label': 'Metal'}\\n{'word': 'thallium', 'start_offset': 63, 'end_offset': 71, 'label': 'Element'}\\n{'word': '203Pb', 'start_offset': 98, 'end_offset': 103, 'label': 'Element'}\\n{'word': 'natTl', 'start_offset': 105, 'end_offset': 110, 'label': 'Element'}\\n{'word': 'copper ', 'start_offset': 132, 'end_offset': 139, 'label': 'Element'}\\n{'word': ' 1  M  HNO3', 'start_offset': 254, 'end_offset': 265, 'label': 'Acid Concentration'}\\n{'word': 'Ion  exchange', 'start_offset': 268, 'end_offset': 281, 'label': 'Separation Method'}\\n{'word': 'solvent  extraction', 'start_offset': 284, 'end_offset': 303, 'label': 'Separation Method'}\\n{'word': ' nanomagnetic    ion-imprinted  polymer  methods  ', 'start_offset': 310, 'end_offset': 360, 'label': 'Separation Method'}\\n{'word': '203Pb', 'start_offset': 389, 'end_offset': 394, 'label': 'Element'}\\n{'word': 'thallium', 'start_offset': 402, 'end_offset': 410, 'label': 'Element'}\\n{'word': 'γ-Ray  spectroscopy', 'start_offset': 477, 'end_offset': 496, 'label': 'Method of Analysis'}\\n\""
      ]
     },
     "execution_count": 53,
     "metadata": {},
     "output_type": "execute_result"
    }
   ],
   "source": [
    "prompt_generate(temp_info)"
   ]
  },
  {
   "cell_type": "code",
   "execution_count": 44,
   "metadata": {},
   "outputs": [
    {
     "data": {
      "text/plain": [
       "794"
      ]
     },
     "execution_count": 44,
     "metadata": {},
     "output_type": "execute_result"
    }
   ],
   "source": [
    "len(info[2]['text'])"
   ]
  },
  {
   "cell_type": "code",
   "execution_count": 58,
   "metadata": {},
   "outputs": [
    {
     "name": "stdout",
     "output_type": "stream",
     "text": [
      "\n",
      "\n",
      "*** Generate:\n",
      "<s> Context: Please perform Named Entity Recognition (NER) on the following text with label entities [Metal] [Element] [Acid] [Yield] [Separation Method] [Resin] [Method of Analysis] [pH] [Chemical Compound] [Organic solvent] [Element Group] [Inorganic Solvent] [Flowrate] [Acid Concentration] [Reagent]: \n",
      "Q: Extraction systems based on extraction of tetrafluoroboric acid (HBF4) with tributyl phosphate (TBP) and triamylphosphine oxide (TAPO) for boron isotope separation were studied. Tetrafluoroboric acid was studied in comparison with boric acid (H3BO3). The extraction isotherms at 20°C for four systems (boric and tetrafluoroboric acids extracted with TBP and TAPO in o-xylene) were obtained, and single-stage isotope separation factors for these four systems were determined.\n",
      "A: {'word': ' tetrafluoroboric acid', 'label': 'Acid'}\n",
      "{'word': 'HBF4', 'label': 'Acid'}\n",
      "{'word': 'tributyl phosphate', 'label': 'Separation Method'}\n",
      "{'word': 'TBP', 'label': 'Separation Method'}\n",
      "{'word': ' triamylphosphine oxide', 'label': 'Separation Method'}\n",
      "{'word': 'TAPO', 'label': 'Separation Method'}\n",
      "{'word': 'boron', 'label': 'Metal'}\n",
      "{'word': 'Tetrafluoroboric acid', 'label': 'Acid'}\n",
      "{'word': 'boric acid', 'label': 'Acid'}\n",
      "{'word': '(H3BO3', 'label': 'Acid'}\n",
      "{'word': 'boric', 'label': 'Acid'}\n",
      "{'word': 'tetrafluoroboric acids', 'label': 'Acid'}\n",
      "{'word': 'TBP ', 'label': 'Separation Method'}\n",
      "{'word': 'TAPO ', 'label': 'Separation Method'}\n",
      "{'word': 'o-xylene', 'label': 'Organic solvent'}\n",
      "\n",
      "Q: Lead-203  was  produced  by  proton  bombardment  of  natural  thallium  target.  For  producing  203Pb, natTl was electroplated on copper backing as target and was bombarded by energetic proton beam. After bom-bardment,  the  target  was  dissolved  in  1  M  HNO3.  Ion  exchange,  solvent  extraction,  and  nanomagnetic    ion-imprinted  polymer  methods  were  used  for  separating  203Pb  from  thallium.  The  separation  efficiency  of  these  methods  was  studied.  γ-Ray  spectroscopy  wa\n",
      "A: {'word': 'Lead-203', 'label': 'Metal'}\n",
      "{'word': 'thallium', 'label': 'Element'}\n",
      "{'word': '203Pb', 'label': 'Element'}\n",
      "{'word': 'natTl', 'label': 'Element'}\n",
      "{'word': 'copper ', 'label': 'Element'}\n",
      "{'word': ' 1  M  HNO3', 'label': 'Acid Concentration'}\n",
      "{'word': 'Ion  exchange', 'label': 'Separation Method'}\n",
      "{'word': 'solvent  extraction', 'label': 'Separation Method'}\n",
      "{'word': ' nanomagnetic    ion-imprinted  polymer  methods  ', 'label': 'Separation Method'}\n",
      "{'word': '203Pb', 'label': 'Element'}\n",
      "{'word': 'thallium', 'label': 'Element'}\n",
      "{'word': 'γ-Ray  spectroscopy', 'label': 'Method of Analysis'}\n",
      "\n",
      "Q: The mixture of nuclides, remaining after the separation of thorium isotopes contains 228Ra (in which 228Ac accumulates) and also 224Ra (in equilibrium with other decay products, including gaseous 220Rn) and the stable 208Pb. A single-stage isolation of 228Ac from a mixture of this kind is a complicated task, and deep purification to remove 224Ra is necessary for obtaining the radiochemically pure 228Ac. For this reason, the mixture was kept for one month till the complete decay of 224Ra. In the \n",
      "A: \n",
      "    \n",
      "{'word': '228Ac', 'label': 'Chemical Compound'}\n",
      "{'word': '228Ra ', 'label': 'Chemical Compound'}\n",
      "{'word': '224Ra', 'label': 'Chemical Compound'}\n",
      "{'word': '220Rn', 'label': 'Chemical Compound'}\n",
      "{'word': '208Pb', 'label': 'Chemical Compound'}\n",
      "\n",
      "Q: The radiochemical purity of 228Ac was determined by an ion-selective electrode method. The electrode was immersed in a liquid medium containing 228Ac and 228Ra. The electrode contained a cation-selective membrane, which was permeable for cations, but was not permeable for anions. The concentration of 228Ra in the liquid medium was determined by measuring the current through the membrane. The radiochemical purity was calculated as follows:\n",
      "\n",
      "A: \n",
      "    \n",
      "{'word': '228Ra ', 'label': 'Chemical Compound'}\n",
      "{'word': '228Ac ', 'label': 'Chemical Compound'}\n",
      "{'word': '228Ra', 'label': 'Chemical Compound'}\n",
      "{'word': ' 228Ac', 'label': 'Chemical Compound'}\n",
      "\n",
      "Q: The separation of 228Ac from the mixture was performed by the extraction of 228Ac with a cation-exchange resin, HDE-22, in an organic solvent. After the extraction, the resin was washed with water and dried. The radiochemical purity of 228Ac was determined by an ion-selective electrode method.\n",
      "\n",
      "A: \n",
      "    \n",
      "{'word': '228Ra ', 'label': 'Chemical Compound'}\n",
      "{'word': '228Ac ', 'label': 'Chemical Compound'}\n",
      "{'word': ' 228Ac', 'label': 'Chemical Compound'}\n",
      "{'word': 'HDE-22', 'label': 'Resin'}\n",
      "{'word': ' organic  solvent', 'label': 'Organic solvent'}\n"
     ]
    }
   ],
   "source": [
    "print(\"\\n\\n*** Generate:\")\n",
    "\n",
    "input_ids = tokenizer(prompt, return_tensors='pt').input_ids.cuda()\n",
    "output = model.generate(inputs=input_ids, temperature=0.7, do_sample=True, top_p=0.95, top_k=40, max_new_tokens=512)\n",
    "print(tokenizer.decode(output[0]))"
   ]
  }
 ],
 "metadata": {
  "kernelspec": {
   "display_name": "base",
   "language": "python",
   "name": "python3"
  },
  "language_info": {
   "codemirror_mode": {
    "name": "ipython",
    "version": 3
   },
   "file_extension": ".py",
   "mimetype": "text/x-python",
   "name": "python",
   "nbconvert_exporter": "python",
   "pygments_lexer": "ipython3",
   "version": "3.11.4"
  },
  "orig_nbformat": 4
 },
 "nbformat": 4,
 "nbformat_minor": 2
}
